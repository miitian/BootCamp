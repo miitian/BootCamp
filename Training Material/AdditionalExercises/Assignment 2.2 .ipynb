{
 "cells": [
  {
   "cell_type": "markdown",
   "metadata": {
    "collapsed": true
   },
   "source": [
    "### 1) Print the items in the list in ascending order.\n",
    "\n",
    "        For Example\n",
    "        Sample_list = [15, 1, 4, 19, 3,7]\n",
    "        \n",
    "        Expected Output\n",
    "        1\n",
    "        3\n",
    "        4\n",
    "        7\n",
    "        15\n",
    "        19"
   ]
  },
  {
   "cell_type": "code",
   "execution_count": 2,
   "metadata": {},
   "outputs": [
    {
     "name": "stdout",
     "output_type": "stream",
     "text": [
      "1\n",
      "3\n",
      "4\n",
      "7\n",
      "15\n",
      "19\n"
     ]
    }
   ],
   "source": [
    "#initialize a list\n",
    "Sample_list = [***]\n",
    "\n",
    "#for each item in the sorted list, traverse the list\n",
    "for i in sorted(***):\n",
    "    \n",
    "    #print the item\n",
    "    print(***)"
   ]
  },
  {
   "cell_type": "markdown",
   "metadata": {},
   "source": [
    "### 2) Create a list, areas, that contains the area of the hallway (hall), kitchen (kit), living room (liv), bedroom (bed) and bathroom (bath), in this order. Use the predefined variables.\n",
    "\n",
    "        area variables (in square meters)\n",
    "        hall = 25.25\n",
    "        kit = 50.0\n",
    "        liv = 30.0\n",
    "        bed = 9.75\n",
    "        bath = 8.50\n",
    "        \n",
    "        Print areas with the print() function\n",
    "        \n",
    "        Expected Output\n",
    "        [25.25, 50.0, 30.0, 9.75, 8.5]"
   ]
  },
  {
   "cell_type": "code",
   "execution_count": null,
   "metadata": {
    "collapsed": true
   },
   "outputs": [],
   "source": [
    "# Define Areas Variables \n",
    "hall = ***\n",
    "kit = ***\n",
    "liv = ***\n",
    "bed = ***\n",
    "bath = ***\n",
    "\n",
    "# Create list areas\n",
    "areas = [hall,kit,liv,bed,bath]\n",
    "\n",
    "# Print areas\n",
    "print (***)"
   ]
  },
  {
   "cell_type": "markdown",
   "metadata": {},
   "source": [
    "### 3) Print out the second element from the areas list, so it should print 25.25.\n",
    "\n",
    "        Subset and print out the last element of areas, being 8.50. Using a negative index makes sense here!\n",
    "        Select the number representing the area of the living room and print it out.\n",
    "        \n",
    "        Create the areas list\n",
    "        areas = [\"hallway\", 25.25, \"kitchen\", 50.0, \"living room\", 30.0, \"bedroom\", 9.75, \"bathroom\", 8.50]"
   ]
  },
  {
   "cell_type": "code",
   "execution_count": null,
   "metadata": {
    "collapsed": true
   },
   "outputs": [],
   "source": [
    "# Create the areas list\n",
    "areas = [***]"
   ]
  },
  {
   "cell_type": "code",
   "execution_count": null,
   "metadata": {
    "collapsed": true
   },
   "outputs": [],
   "source": [
    "# 1) Print out the second element from the areas list, so it should print 25.25\n",
    "print(***)"
   ]
  },
  {
   "cell_type": "code",
   "execution_count": null,
   "metadata": {
    "collapsed": true
   },
   "outputs": [],
   "source": [
    "# 2) Print out last element from areas\n",
    "\n",
    "print(***)\n"
   ]
  },
  {
   "cell_type": "code",
   "execution_count": null,
   "metadata": {
    "collapsed": true
   },
   "outputs": [],
   "source": [
    " # 3) Print out the area of the living room\n",
    "    \n",
    "print(***)"
   ]
  },
  {
   "cell_type": "markdown",
   "metadata": {},
   "source": [
    "### 4) Write a program, which will find all such numbers between 300 and 900 (both included) such that each digit of the number is an even number.\n",
    "\n",
    "        The numbers obtained should be printed in a comma-separated sequence on a single line.\n",
    "        \n",
    "        Expected Output\n",
    "        \n",
    "        [300, 302, 304, 306, 308, 310, 312, 314, 316, 318, 320, 322, 324, 326, 328, 330, 332, 334, 336, 338, 340, 342, 344, 346, 348, 350, 352, 354, 356, 358, 360, 362, 364, 366, 368, 370, 372, 374, 376, 378, 380, 382, 384, 386, 388, 390, 392, 394, 396, 398, 400, 402, 404, 406, 408, 410, 412, 414, 416, 418, 420, 422, 424, 426, 428, 430, 432, 434, 436, 438, 440, 442, 444, 446, 448, 450, 452, 454, 456, 458, 460, 462, 464, 466, 468, 470, 472, 474, 476, 478, 480, 482, 484, 486, 488, 490, 492, 494, 496, 498, 500, 502, 504, 506, 508, 510, 512, 514, 516, 518, 520, 522, 524, 526, 528, 530, 532, 534, 536, 538, 540, 542, 544, 546, 548, 550, 552, 554, 556, 558, 560, 562, 564, 566, 568, 570, 572, 574, 576, 578, 580, 582, 584, 586, 588, 590, 592, 594, 596, 598, 600, 602, 604, 606, 608, 610, 612, 614, 616, 618, 620, 622, 624, 626, 628, 630, 632, 634, 636, 638, 640, 642, 644, 646, 648, 650, 652, 654, 656, 658, 660, 662, 664, 666, 668, 670, 672, 674, 676, 678, 680, 682, 684, 686, 688, 690, 692, 694, 696, 698, 700, 702, 704, 706, 708, 710, 712, 714, 716, 718, 720, 722, 724, 726, 728, 730, 732, 734, 736, 738, 740, 742, 744, 746, 748, 750, 752, 754, 756, 758, 760, 762, 764, 766, 768, 770, 772, 774, 776, 778, 780, 782, 784, 786, 788, 790, 792, 794, 796, 798, 800, 802, 804, 806, 808, 810, 812, 814, 816, 818, 820, 822, 824, 826, 828, 830, 832, 834, 836, 838, 840, 842, 844, 846, 848, 850, 852, 854, 856, 858, 860, 862, 864, 866, 868, 870, 872, 874, 876, 878, 880, 882, 884, 886, 888, 890, 892, 894, 896, 898, 900]\n"
   ]
  },
  {
   "cell_type": "code",
   "execution_count": 6,
   "metadata": {},
   "outputs": [
    {
     "name": "stdout",
     "output_type": "stream",
     "text": [
      "[300, 302, 304, 306, 308, 310, 312, 314, 316, 318, 320, 322, 324, 326, 328, 330, 332, 334, 336, 338, 340, 342, 344, 346, 348, 350, 352, 354, 356, 358, 360, 362, 364, 366, 368, 370, 372, 374, 376, 378, 380, 382, 384, 386, 388, 390, 392, 394, 396, 398, 400, 402, 404, 406, 408, 410, 412, 414, 416, 418, 420, 422, 424, 426, 428, 430, 432, 434, 436, 438, 440, 442, 444, 446, 448, 450, 452, 454, 456, 458, 460, 462, 464, 466, 468, 470, 472, 474, 476, 478, 480, 482, 484, 486, 488, 490, 492, 494, 496, 498, 500, 502, 504, 506, 508, 510, 512, 514, 516, 518, 520, 522, 524, 526, 528, 530, 532, 534, 536, 538, 540, 542, 544, 546, 548, 550, 552, 554, 556, 558, 560, 562, 564, 566, 568, 570, 572, 574, 576, 578, 580, 582, 584, 586, 588, 590, 592, 594, 596, 598, 600, 602, 604, 606, 608, 610, 612, 614, 616, 618, 620, 622, 624, 626, 628, 630, 632, 634, 636, 638, 640, 642, 644, 646, 648, 650, 652, 654, 656, 658, 660, 662, 664, 666, 668, 670, 672, 674, 676, 678, 680, 682, 684, 686, 688, 690, 692, 694, 696, 698, 700, 702, 704, 706, 708, 710, 712, 714, 716, 718, 720, 722, 724, 726, 728, 730, 732, 734, 736, 738, 740, 742, 744, 746, 748, 750, 752, 754, 756, 758, 760, 762, 764, 766, 768, 770, 772, 774, 776, 778, 780, 782, 784, 786, 788, 790, 792, 794, 796, 798, 800, 802, 804, 806, 808, 810, 812, 814, 816, 818, 820, 822, 824, 826, 828, 830, 832, 834, 836, 838, 840, 842, 844, 846, 848, 850, 852, 854, 856, 858, 860, 862, 864, 866, 868, 870, 872, 874, 876, 878, 880, 882, 884, 886, 888, 890, 892, 894, 896, 898, 900]\n"
     ]
    }
   ],
   "source": [
    "# initialize empty list\n",
    "values = ***\n",
    "\n",
    "#for each i in the range, traverse the range\n",
    "for i ***:\n",
    "    #check each digit in i is divisible by 2\n",
    "    if ***:\n",
    "        #assign it to the list values\n",
    "        ***\n",
    "        \n",
    "# Print values            \n",
    "print(values)\n"
   ]
  },
  {
   "cell_type": "markdown",
   "metadata": {},
   "source": [
    "### 5)  Stack And Queue \n",
    "\n",
    "        5.1) Stack -“Last-in, first-out”. \n",
    "\n",
    "        In Python, we have inbuilt functions -\n",
    "\n",
    "        To push an item, we use append() function and to pop out an element we use pop() function.\n",
    "\n",
    "        Stack using list \n",
    "\n",
    "        stack = [\"classroom\", \"student\", \"Teachers\"]\n",
    "\n",
    "        Expected Output\n",
    "        ['classroom', 'student', 'Teachers', 'principal', 'laboratory']\n",
    "         laboratory\n",
    "        ['classroom', 'student', 'Teachers', 'principal']\n",
    "         classroom\n",
    "        ['classroom', 'student', 'Teachers']"
   ]
  },
  {
   "cell_type": "code",
   "execution_count": 11,
   "metadata": {},
   "outputs": [
    {
     "name": "stdout",
     "output_type": "stream",
     "text": [
      "['classroom', 'student', 'Teachers', 'principal', 'laboratory']\n",
      "laboratory\n",
      "['classroom', 'student', 'Teachers', 'principal']\n",
      "classroom\n",
      "['student', 'Teachers', 'principal']\n"
     ]
    }
   ],
   "source": [
    "# Create list named stack \n",
    "stack = [***]\n",
    "\n",
    "# Add principal to List\n",
    "stack.append(\"principal\")\n",
    "\n",
    "# Add laboratory to List\n",
    "stack.append(\"laboratory\")\n",
    "\n",
    "# print whole stack\n",
    "print(stack)\n",
    "\n",
    "# print the last element added\n",
    "print(stack.pop())\n",
    "\n",
    "#print stack after popping \n",
    "print(***)\n",
    "\n",
    "#pop and print the first element added\n",
    "print(***)\n",
    "\n",
    "#print the original stack \n",
    "print(***)\n",
    "         "
   ]
  },
  {
   "cell_type": "markdown",
   "metadata": {},
   "source": [
    "\n",
    "### 5.2)  Queue “First-in, first-out”\n",
    "          queue = deque([\"classroom\", \"student\", \"Teachers\",])\n",
    "\n",
    "          Expected Output\n",
    "          \n",
    "          deque(['classroom', 'student', 'Teachers'])\n",
    "          deque(['classroom', 'student', 'Teachers', 'principal'])\n",
    "          deque(['classroom', 'student', 'Teachers', 'principal', 'laboratory'])\n",
    "          classroom\n",
    "          deque(['student', 'Teachers', 'principal', 'laboratory'])\n",
    "          laboratory\n",
    "          deque(['student', 'Teachers', 'principal'])"
   ]
  },
  {
   "cell_type": "code",
   "execution_count": 14,
   "metadata": {},
   "outputs": [
    {
     "name": "stdout",
     "output_type": "stream",
     "text": [
      "deque(['classroom', 'student', 'Teachers'])\n",
      "deque(['classroom', 'student', 'Teachers', 'principal'])\n",
      "deque(['classroom', 'student', 'Teachers', 'principal', 'laboratory'])\n",
      "classroom\n",
      "deque(['student', 'Teachers', 'principal', 'laboratory'])\n",
      "laboratory\n",
      "deque(['student', 'Teachers', 'principal'])\n"
     ]
    }
   ],
   "source": [
    "# Import required package\n",
    "from collections import deque\n",
    "\n",
    "# Create list named queue\n",
    "queue = deque(***)\n",
    "\n",
    "# Print the Queue\n",
    "print(queue)\n",
    "\n",
    "# Add principal to queue\n",
    "queue.append(***)\n",
    "\n",
    "# Print the Queue\n",
    "print(***)\n",
    "\n",
    "# Add laboratory to queue\n",
    "queue.append(***)\n",
    "\n",
    "# Print the Queue\n",
    "print(***)\n",
    "\n",
    "\n",
    "# Now performing First-in First Out Operations\n",
    "\n",
    "# print the first element, so \"classroom\"\n",
    "print(queue.popleft())    \n",
    "\n",
    "#print the Queue\n",
    "print(***)\n",
    "\n",
    "#print the last element, so \"laboratory\"\n",
    "print(***)\n",
    "\n",
    "#print the Queue\n",
    "print(queue)\n",
    "\n",
    "\n",
    "\n"
   ]
  }
 ],
 "metadata": {
  "kernelspec": {
   "display_name": "Python 3",
   "language": "python",
   "name": "python3"
  },
  "language_info": {
   "codemirror_mode": {
    "name": "ipython",
    "version": 3
   },
   "file_extension": ".py",
   "mimetype": "text/x-python",
   "name": "python",
   "nbconvert_exporter": "python",
   "pygments_lexer": "ipython3",
   "version": "3.6.5"
  }
 },
 "nbformat": 4,
 "nbformat_minor": 2
}
