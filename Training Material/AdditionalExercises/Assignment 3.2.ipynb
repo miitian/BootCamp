{
 "cells": [
  {
   "cell_type": "markdown",
   "metadata": {
    "collapsed": true
   },
   "source": [
    "### 1) The function \"echo_name\" takes 2 parameters: a string value, \"name1\"and an integer value, \"echo_int\". It returns a string that is a concatenation of \"echo_int\" copies of \"name1\". \n",
    "\n",
    "    Your task is to convert this simple function into a lambda function.\n",
    "\n",
    "    Instructions:\n",
    "    Define the lambda function \"echo_name\" using the variables \"name1\" and \"echo_int\". Replicate what the original function definition for \"echo_name ()\" does above.\n",
    "    Call \"echo_name ()\" with the string argument 'acadgild' and the value 5, in that order. Assign the call to result\n",
    "    \n",
    "    Expected Output \n",
    "\n",
    "    acadgildacadgildacadgildacadgildacadgild"
   ]
  },
  {
   "cell_type": "code",
   "execution_count": 1,
   "metadata": {},
   "outputs": [
    {
     "name": "stdout",
     "output_type": "stream",
     "text": [
      "acadgildacadgildacadgildacadgildacadgild\n"
     ]
    }
   ],
   "source": [
    "# Define a lambda function: echo_name\n",
    "\n",
    "echo_name = (lambda ***)\n",
    "\n",
    "# Call echo_name with parameters (\"acadgild\",5)\n",
    "result = echo_name (\"acadgild\",5)\n",
    "\n",
    "# Print result\n",
    "print(***)\n"
   ]
  },
  {
   "cell_type": "markdown",
   "metadata": {},
   "source": [
    "### 2)  Convert temperature in Celsius to Fahrenheit using map() and lambda functions\n",
    "\n",
    "\n",
    "        Sample input\n",
    "        Celsius = [49.2, 26.5, 47.3, 47.8]\n",
    "        \n",
    "        Expected Output\n",
    "        [120.56, 79.7, 117.14, 118.03999999999999]"
   ]
  },
  {
   "cell_type": "code",
   "execution_count": 22,
   "metadata": {},
   "outputs": [
    {
     "name": "stdout",
     "output_type": "stream",
     "text": [
      "[93.56, 52.7, 90.14, 91.03999999999999]\n"
     ]
    }
   ],
   "source": [
    "# Initialize list \n",
    "Celsius = [***]\n",
    "\n",
    "\n",
    "#use map() and lambda,convert to Fahrenheit \n",
    "#map(function,list)\n",
    "Fahrenheit = list(*)\n",
    "\n",
    "#print Fahrenheit \n",
    "print(Fahrenheit)\n"
   ]
  },
  {
   "cell_type": "markdown",
   "metadata": {},
   "source": [
    "### 3) The function filter(function, list)  filters out all the elements of a list, for which the function function returns True. \n",
    "     The function filter(f,l) needs a function f as its first argument. f returns a Boolean value, i.e. either True or False. This function will be applied to every element of the list l. Only if f returns True will the element of the list be included in the result list\n",
    "     Q. print the numbers in the fibonacci series which are even numbers using filter and lambda functions\n",
    "     \n",
    "     Sample list = \n",
    "     fibonacci = [0,1,1,2,3,5,8,13,21,34,55]\n",
    "     \n",
    "     Expected Output\n",
    "     [0, 2, 8, 34]"
   ]
  },
  {
   "cell_type": "code",
   "execution_count": 9,
   "metadata": {},
   "outputs": [
    {
     "name": "stdout",
     "output_type": "stream",
     "text": [
      "[0, 2, 8, 34]\n"
     ]
    }
   ],
   "source": [
    "#Initialize fibonacci series list\n",
    "fibonacci = [***]\n",
    "\n",
    "def is_even(x):\n",
    "    if(***):\n",
    "        return True\n",
    "\n",
    "#define function filter with two arguments(function,list) to filter the even elements in the list\n",
    "\n",
    "result = list(filter(***))\n",
    "\n",
    "#print the even elements in the list\n",
    "print(result)"
   ]
  },
  {
   "cell_type": "markdown",
   "metadata": {},
   "source": [
    "### 4) Implement a function that takes as input three variables, and returns the largest of the three without using max() function."
   ]
  },
  {
   "cell_type": "code",
   "execution_count": 14,
   "metadata": {},
   "outputs": [],
   "source": [
    "#define a function named max_of_three with three parameters\n",
    "def max_of_three(a, b, c):\n",
    "     #initialize max_3=0\n",
    "     max_3=0\n",
    "     #compare the first two parameters (a and b)\n",
    "     if a>b:\n",
    "         #assign max_3= greater one amongst a and b\n",
    "         max_3 = ***\n",
    "         #compare the first and last  parameters (a and c)\n",
    "         if a>c:\n",
    "             #assign max_3= greater one amongst a and c\n",
    "             max_3 = ***\n",
    "         else:\n",
    "            #assign max_3 =c\n",
    "             max_3 = ***\n",
    "     #compare the second and third parameters (b and c)\n",
    "\n",
    "     else:\n",
    "          if ***:\n",
    "             #assign max_3= greater one amongst b and c \n",
    "             max_3 = b\n",
    "          else:\n",
    "             #assign max_3= c\n",
    "             max_3 = ***\n",
    "     return max_3\n",
    "\n"
   ]
  },
  {
   "cell_type": "code",
   "execution_count": 15,
   "metadata": {},
   "outputs": [
    {
     "data": {
      "text/plain": [
       "66"
      ]
     },
     "execution_count": 15,
     "metadata": {},
     "output_type": "execute_result"
    }
   ],
   "source": [
    "max_of_three(66,1,55)"
   ]
  },
  {
   "cell_type": "markdown",
   "metadata": {
    "collapsed": true
   },
   "source": [
    "### 5) Implement a function longestWord() that takes a list of words and returns the longest one.\n",
    "\n",
    "        Sample Word List\n",
    "        word= [\"January\",\"Feburary\",\"March\",\"April\",\"May\",\"June\",\"July\"]\n",
    "        \n",
    "        Expected Output\n",
    "        ['Feburary']"
   ]
  },
  {
   "cell_type": "code",
   "execution_count": 20,
   "metadata": {},
   "outputs": [
    {
     "name": "stdout",
     "output_type": "stream",
     "text": [
      "['Feburary']\n"
     ]
    }
   ],
   "source": [
    " # Initialize the list\n",
    "word=  [\"January\",\"Feburary\",\"March\",\"April\",\"May\",\"June\",\"July\"]\n",
    "\n",
    "#define function named longestWord with one parameter (arg_word)\n",
    "def longestWord(arg_word):\n",
    "    \n",
    "    #use len(max()) to apply the logic\n",
    "    max_len = len(***)\n",
    "    \n",
    "    # iterate over the list arg_word and check which word has length = max_len and print\n",
    "    return [x for x in arg_word if len(x) == ***]\n",
    "\n",
    "#function call : longestWord and pass the list \"word\" as the parameter\n",
    "print(longestWord(word))"
   ]
  },
  {
   "cell_type": "code",
   "execution_count": null,
   "metadata": {},
   "outputs": [],
   "source": []
  }
 ],
 "metadata": {
  "kernelspec": {
   "display_name": "Python 3",
   "language": "python",
   "name": "python3"
  },
  "language_info": {
   "codemirror_mode": {
    "name": "ipython",
    "version": 3
   },
   "file_extension": ".py",
   "mimetype": "text/x-python",
   "name": "python",
   "nbconvert_exporter": "python",
   "pygments_lexer": "ipython3",
   "version": "3.6.5"
  }
 },
 "nbformat": 4,
 "nbformat_minor": 2
}
