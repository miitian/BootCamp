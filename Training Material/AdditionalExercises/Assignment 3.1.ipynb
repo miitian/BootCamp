{
 "cells": [
  {
   "cell_type": "markdown",
   "metadata": {
    "collapsed": true
   },
   "source": [
    "### 1) Iterating over a dictionary and printing the key \n",
    "\n",
    "     Sample_dictionary={\"house\":\"Haus\",\"cat\":\"Katze\",\"red\":\"rot\"}\n",
    "     Expected Output \n",
    "     house\n",
    "     cat\n",
    "     red"
   ]
  },
  {
   "cell_type": "code",
   "execution_count": 4,
   "metadata": {},
   "outputs": [
    {
     "name": "stdout",
     "output_type": "stream",
     "text": [
      "house\n",
      "cat\n",
      "red\n"
     ]
    }
   ],
   "source": [
    "# Initialize a dictonary\n",
    "Sample_dictionary={***}\n",
    "\n",
    "#Iterate the dictonary\n",
    "for ***:\n",
    "\n",
    "#print the keys of dictonary\n",
    "    ***\n"
   ]
  },
  {
   "cell_type": "markdown",
   "metadata": {},
   "source": [
    "### 2) Write a Python script to print a dictionary where the keys are numbers between 1 and 15 (both included) and the values are square of keys.\n",
    "\n",
    "        Expected Output\n",
    "        {1: 1, 2: 4, 3: 9, 4: 16, 5: 25, 6: 36, 7: 49, 8: 64, 9: 81, 10: 100, 11: 121, 12: 144, 13: 169, 14: 196, 15:225}"
   ]
  },
  {
   "cell_type": "code",
   "execution_count": 7,
   "metadata": {},
   "outputs": [
    {
     "name": "stdout",
     "output_type": "stream",
     "text": [
      "{1: 1, 2: 4, 3: 9, 4: 16, 5: 25, 6: 36, 7: 49, 8: 64, 9: 81, 10: 100, 11: 121, 12: 144, 13: 169, 14: 196, 15: 225}\n"
     ]
    }
   ],
   "source": [
    "#initialize empty dictonary\n",
    "dictionary=dict()\n",
    "\n",
    "#iterate through the range of numbers mentioned\n",
    "for x in range(***):\n",
    "    #square each elements in the range and assign it to the dictionary keys as their respective values\n",
    "    ***\n",
    "    \n",
    "\n",
    "#print dictonary\n",
    "print(dictionary) \n"
   ]
  },
  {
   "cell_type": "markdown",
   "metadata": {
    "collapsed": true
   },
   "source": [
    "### 3) String Conversion using functions \n",
    "\n",
    "        lowercase to uppercase and uppercase to lowercase\n",
    "\n",
    "        test = \"AltERNating\"\n",
    "        \n",
    "        Expected Output \n",
    "        aLTernATING"
   ]
  },
  {
   "cell_type": "code",
   "execution_count": 11,
   "metadata": {},
   "outputs": [
    {
     "name": "stdout",
     "output_type": "stream",
     "text": [
      "aLTernATING\n"
     ]
    }
   ],
   "source": [
    "#initialize test \n",
    "test = \"AltERNating\"\n",
    "\n",
    "# define function by name to_alternating_case and pass a parameter string// #pass a parameter named string\n",
    "def to_alternating_case(***): \n",
    "    \n",
    "    #initialize empty string\n",
    "    res = \"\"\n",
    "    \n",
    "    #iterate over the string\n",
    "    for ***:\n",
    "\n",
    "#Check if alphabet is uppercase==True\n",
    "        if ***:\n",
    "\n",
    "#Convert alphabet ito lowercase\n",
    "            ***\n",
    "    \n",
    "#Else convert it to uppercase\n",
    "        else:\n",
    "            ***\n",
    "\n",
    "#return res\n",
    "    return res\n",
    "\n",
    "\n",
    "print(to_alternating_case(test))\n",
    "\n",
    "\n"
   ]
  },
  {
   "cell_type": "markdown",
   "metadata": {
    "collapsed": true
   },
   "source": [
    "### 4) Fibonacci numbers are the numbers in which every number after the first two is the sum of the two preceding ones:\n",
    "\n",
    "        Writing Functions to write Fibonacci numbers using itertools\n",
    "        \n",
    "        Expected Output\n",
    "        [0, 1, 1, 2, 3, 5, 8, 13, 21, 34]"
   ]
  },
  {
   "cell_type": "code",
   "execution_count": 12,
   "metadata": {},
   "outputs": [
    {
     "data": {
      "text/plain": [
       "[0, 1, 1, 2, 3, 5, 8, 13, 21, 34]"
      ]
     },
     "execution_count": 12,
     "metadata": {},
     "output_type": "execute_result"
    }
   ],
   "source": [
    "# define function named fib()\n",
    "def fib():\n",
    "\n",
    "#Initialize first two numbers of the series as 0 and 1\n",
    "    a, b = *** \n",
    "\n",
    "# using “while” loop\n",
    "    while True:\n",
    "\n",
    "        yield a\n",
    "\n",
    "#  get the third element after sum of the two preceding ones:\n",
    "\n",
    "        a, b = b, a + b\n",
    "\n",
    "#import itertools\n",
    "import itertools\n",
    "\n",
    "list(itertools.islice(fib(), 10))\n"
   ]
  },
  {
   "cell_type": "markdown",
   "metadata": {
    "collapsed": true
   },
   "source": [
    "### 5) Print the alphabets only from the alphanumeric string\n",
    "\n",
    "        string =  \"123@Welc34ometo12@ac#adGild\"\n",
    "        \n",
    "        Expected Output\n",
    "        \n",
    "        'WelcometoacadGild'\n"
   ]
  },
  {
   "cell_type": "code",
   "execution_count": 13,
   "metadata": {},
   "outputs": [
    {
     "data": {
      "text/plain": [
       "'WelcometoacadGild'"
      ]
     },
     "execution_count": 13,
     "metadata": {},
     "output_type": "execute_result"
    }
   ],
   "source": [
    "#Initialize string string\n",
    "\n",
    "string = \"123@Welc34ometo12@ac#adGild\"\n",
    "\n",
    "#Use generator expressions, check for alphabets from alphanumeric string\n",
    "''.join(x for x in string if x.isalpha())\n"
   ]
  }
 ],
 "metadata": {
  "kernelspec": {
   "display_name": "Python 3",
   "language": "python",
   "name": "python3"
  },
  "language_info": {
   "codemirror_mode": {
    "name": "ipython",
    "version": 3
   },
   "file_extension": ".py",
   "mimetype": "text/x-python",
   "name": "python",
   "nbconvert_exporter": "python",
   "pygments_lexer": "ipython3",
   "version": "3.6.5"
  }
 },
 "nbformat": 4,
 "nbformat_minor": 2
}
