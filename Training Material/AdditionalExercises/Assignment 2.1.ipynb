{
 "cells": [
  {
   "cell_type": "markdown",
   "metadata": {
    "collapsed": true
   },
   "source": [
    "### 1) String Slices → A way to refer to sub-parts of sequences -- typically strings and lists. The slice string[start:end] is the elements beginning at start and extending up to but not including end. \n",
    "\n",
    "     For example\n",
    "     string = \"AcadGild\"\n",
    "     print(string[1:4])\n",
    "     Output = cad"
   ]
  },
  {
   "cell_type": "code",
   "execution_count": 7,
   "metadata": {},
   "outputs": [
    {
     "name": "stdout",
     "output_type": "stream",
     "text": [
      "Aca\n",
      "dGild\n",
      "AcadGild\n",
      "cadGild\n"
     ]
    }
   ],
   "source": [
    "#Initialize string \n",
    "string = \"AcadGild\"\n",
    "\n",
    "#print first 3 alphabets\n",
    "print(***)\n",
    "\n",
    "#print all alphabets but first 3\n",
    "print(***)\n",
    "\n",
    "#print the whole string using “:”\n",
    "print(***)\n",
    "\n",
    "#print all but first alphabet\n",
    "print(***)"
   ]
  },
  {
   "cell_type": "markdown",
   "metadata": {},
   "source": [
    "### 2) Print the number of words and characters from a string\n",
    "\n",
    "       For Example\n",
    "       string = \"Welcome to AcadGild\"\n",
    "       Number of words in the string:\n",
    "       3\n",
    "       Number of characters in the string:\n",
    "       19"
   ]
  },
  {
   "cell_type": "code",
   "execution_count": 11,
   "metadata": {},
   "outputs": [
    {
     "name": "stdout",
     "output_type": "stream",
     "text": [
      "Number of words in the string:\n",
      "3\n",
      "Number of characters in the string:\n",
      "19\n"
     ]
    }
   ],
   "source": [
    "#Initialize string\n",
    "string=\"Welcome to AcadGild\"\n",
    "\n",
    "#initialize char=0 to count number of characters \n",
    "char=0 \n",
    "\n",
    "#initialize word=1 to count number of words\n",
    "***\n",
    "\n",
    "#to iterate over string\n",
    "for i in string:\n",
    "  #count number of characters,increment char by 1\n",
    "      ***\n",
    "    #check for white space to count words\n",
    "      if(i==' '):\n",
    "        ***\n",
    "        \n",
    "#print  total number of words\n",
    "print(\"Number of words in the string:\")\n",
    "print(word)\n",
    "\n",
    "#print total number of characters\n",
    "print(\"Number of characters in the string:\")\n",
    "print(char)\n",
    "\n"
   ]
  },
  {
   "cell_type": "markdown",
   "metadata": {},
   "source": [
    "### 3) Print the number of vowels present in a string\n",
    "\n",
    "        For Example \n",
    "        string = \"Welcome to AcadGild\"\n",
    "        \n",
    "        Expected Output:\n",
    "        7"
   ]
  },
  {
   "cell_type": "code",
   "execution_count": 21,
   "metadata": {},
   "outputs": [
    {
     "name": "stdout",
     "output_type": "stream",
     "text": [
      "Number of vowels are:\n",
      "7\n"
     ]
    }
   ],
   "source": [
    "#Print the number of vowels present in a string\n",
    "\n",
    "#Initialize string\n",
    "string = \"Welcome to AcadGild\"\n",
    "\n",
    "#Initialize counter variable to count the number of vowels\n",
    "vowels = 0\n",
    "\n",
    "#iterate over string\n",
    "for i in ***:\n",
    "\n",
    "      #Check for the vowels “a,e,i,o,u” in the strin\n",
    "      if(***):\n",
    "        #If vowels present, increase counter variable “vowels” by 1\n",
    "        vowels += 1\n",
    "         \n",
    "#print the total number of vowels\n",
    "print(\"Number of vowels are:\")\n",
    "print(vowels)\n"
   ]
  },
  {
   "cell_type": "markdown",
   "metadata": {
    "collapsed": true
   },
   "source": [
    "### 4) Print a string in reverse order\n",
    "\n",
    "        For Example\n",
    "        string = \"Acadgild\"\n",
    "        \n",
    "        Expected Output\n",
    "        d\n",
    "        l\n",
    "        i\n",
    "        g\n",
    "        d\n",
    "        a\n",
    "        c\n",
    "        A"
   ]
  },
  {
   "cell_type": "code",
   "execution_count": 22,
   "metadata": {},
   "outputs": [
    {
     "name": "stdout",
     "output_type": "stream",
     "text": [
      "dliGdacA"
     ]
    }
   ],
   "source": [
    "#initialize string\n",
    "string=\"AcadGild\"\n",
    "\n",
    "\n",
    "#iterate over string and reverse the string using “reversed” function\n",
    "for i in reversed(string):\n",
    "\n",
    "#print reverse of string\n",
    "    print(i, end = \"\")\n"
   ]
  },
  {
   "cell_type": "code",
   "execution_count": null,
   "metadata": {
    "collapsed": true
   },
   "outputs": [],
   "source": []
  }
 ],
 "metadata": {
  "kernelspec": {
   "display_name": "Python 3",
   "language": "python",
   "name": "python3"
  },
  "language_info": {
   "codemirror_mode": {
    "name": "ipython",
    "version": 3
   },
   "file_extension": ".py",
   "mimetype": "text/x-python",
   "name": "python",
   "nbconvert_exporter": "python",
   "pygments_lexer": "ipython3",
   "version": "3.6.5"
  }
 },
 "nbformat": 4,
 "nbformat_minor": 2
}
