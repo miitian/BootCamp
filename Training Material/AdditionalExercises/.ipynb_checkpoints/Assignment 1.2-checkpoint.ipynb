{
 "cells": [
  {
   "cell_type": "markdown",
   "metadata": {
    "collapsed": true
   },
   "source": [
    "## Please replace the astricks with the required logic in the following exercises"
   ]
  },
  {
   "cell_type": "markdown",
   "metadata": {},
   "source": [
    "### 1) Write a python program to print from 1 to 6 except 3 and 6\n",
    "\n",
    "       Expected Output:\n",
    "\n",
    "       1  2  4  5 "
   ]
  },
  {
   "cell_type": "code",
   "execution_count": 17,
   "metadata": {},
   "outputs": [
    {
     "name": "stdout",
     "output_type": "stream",
     "text": [
      "1 2 4 5 "
     ]
    }
   ],
   "source": [
    "for i in range(1,7):\n",
    "    if i == 3 or i == 6:\n",
    "        continue\n",
    "    print(i, end = \" \")"
   ]
  },
  {
   "cell_type": "markdown",
   "metadata": {},
   "source": [
    "### 2) Write a Python program to construct the following pattern, using a nested for loop.\n",
    "\n",
    "        *\n",
    "        * *\n",
    "        * * *\n",
    "        * * * *\n",
    "        * * * * *\n",
    "        * * * *\n",
    "        * * *\n",
    "        * *\n",
    "        *"
   ]
  },
  {
   "cell_type": "code",
   "execution_count": 10,
   "metadata": {},
   "outputs": [
    {
     "name": "stdout",
     "output_type": "stream",
     "text": [
      "*\n",
      "**\n",
      "***\n",
      "****\n",
      "*****\n",
      "****\n",
      "***\n",
      "**\n",
      "*\n",
      "\n"
     ]
    }
   ],
   "source": [
    "n = 5\n",
    "for i in range(n):\n",
    "    print('*'*(i+1))\n",
    "for i in range(n):\n",
    "    print('*'*(n-1-i))"
   ]
  },
  {
   "cell_type": "markdown",
   "metadata": {},
   "source": [
    "### 3) Write a python program to print the sum of the first 10 numbers (1 to 10) using while loop\n",
    "\n",
    "        Expected Output: \n",
    "        The sum of the first 10 integers:  55"
   ]
  },
  {
   "cell_type": "code",
   "execution_count": 19,
   "metadata": {},
   "outputs": [
    {
     "name": "stdout",
     "output_type": "stream",
     "text": [
      "The sum of the first 10 integers: 55\n",
      "The sum of the first 10 integers: 55\n"
     ]
    }
   ],
   "source": [
    "x,s =1, 0\n",
    "while x<=10:\n",
    "    s += x\n",
    "    x+= 1\n",
    "print(\"The sum of the first 10 integers: {}\".format(s))\n",
    "\n",
    "num = 10\n",
    "n_sum = int(num*(num+1)/2)\n",
    "print(\"The sum of the first 10 integers: {}\".format(n_sum))"
   ]
  },
  {
   "cell_type": "markdown",
   "metadata": {},
   "source": [
    "### 4) We use break statement to terminate the while loop without completing all the iterations. The program control goes outside the while and the next print statement is executed. Q. Repeat the while using “break” and print the sum of the first 10 integers\n",
    "\n",
    "        Expected Output:\n",
    "        The sum of the first 10 integers is: 55"
   ]
  },
  {
   "cell_type": "code",
   "execution_count": 13,
   "metadata": {},
   "outputs": [
    {
     "name": "stdout",
     "output_type": "stream",
     "text": [
      "The sum of the first 10 integers: 55\n"
     ]
    }
   ],
   "source": [
    "x,s =1, 0\n",
    "while True:\n",
    "    if x > 10:\n",
    "        break\n",
    "    s += x\n",
    "    x+= 1\n",
    "print(\"The sum of the first 10 integers: {}\".format(s))"
   ]
  },
  {
   "cell_type": "markdown",
   "metadata": {},
   "source": [
    "### 5) Print the whether the number is positive or negative"
   ]
  },
  {
   "cell_type": "code",
   "execution_count": 16,
   "metadata": {},
   "outputs": [
    {
     "name": "stdout",
     "output_type": "stream",
     "text": [
      "Zero\n"
     ]
    }
   ],
   "source": [
    "num = 0\n",
    "if num> 0:\n",
    "    print(\"positive number\")\n",
    "elif num < 0:\n",
    "    print(\"negative number\")\n",
    "else:\n",
    "    print(\"Zero\")"
   ]
  },
  {
   "cell_type": "code",
   "execution_count": null,
   "metadata": {
    "collapsed": true
   },
   "outputs": [],
   "source": []
  }
 ],
 "metadata": {
  "kernelspec": {
   "display_name": "Python 3",
   "language": "python",
   "name": "python3"
  },
  "language_info": {
   "codemirror_mode": {
    "name": "ipython",
    "version": 3
   },
   "file_extension": ".py",
   "mimetype": "text/x-python",
   "name": "python",
   "nbconvert_exporter": "python",
   "pygments_lexer": "ipython3",
   "version": "3.6.5"
  }
 },
 "nbformat": 4,
 "nbformat_minor": 2
}
